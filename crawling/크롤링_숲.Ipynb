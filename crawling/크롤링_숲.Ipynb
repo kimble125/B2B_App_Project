{
 "cells": [
  {
   "cell_type": "code",
   "execution_count": 10,
   "metadata": {},
   "outputs": [
    {
     "name": "stdout",
     "output_type": "stream",
     "text": [
      "Defaulting to user installation because normal site-packages is not writeable\n",
      "Requirement already satisfied: chromedriver-autoinstaller in /Users/kimble/Library/Python/3.12/lib/python/site-packages (0.6.4)\n",
      "Requirement already satisfied: packaging>=23.1 in /Users/kimble/Library/Python/3.12/lib/python/site-packages (from chromedriver-autoinstaller) (24.1)\n"
     ]
    }
   ],
   "source": [
    "!pip install chromedriver-autoinstaller --trusted-host pypi.org --trusted-host files.pythonhosted.org --no-cache-dir"
   ]
  },
  {
   "cell_type": "markdown",
   "metadata": {},
   "source": [
    "# 1. 기본 셀레니움 코드"
   ]
  },
  {
   "cell_type": "code",
   "execution_count": 25,
   "metadata": {},
   "outputs": [
    {
     "ename": "InvalidSelectorException",
     "evalue": "Message: invalid selector\nfrom javascript error: {\"status\":32,\"value\":\"Unable to locate an element with the xpath expression //*[@id=\\\"__next\\\"]/main/div[2]/div[1]/div/div[1]/div[1]/div[2]/h1/span] because of the following error:\\nSyntaxError: Failed to execute 'evaluate' on 'Document': The string '//*[@id=\\\"__next\\\"]/main/div[2]/div[1]/div/div[1]/div[1]/div[2]/h1/span]' is not a valid XPath expression.\"}\n  (Session info: chrome=131.0.6778.140); For documentation on this error, please visit: https://www.selenium.dev/documentation/webdriver/troubleshooting/errors#invalid-selector-exception\nStacktrace:\n0   chromedriver                        0x0000000104e07b08 cxxbridge1$str$ptr + 3651580\n1   chromedriver                        0x0000000104e00358 cxxbridge1$str$ptr + 3620940\n2   chromedriver                        0x00000001048684b4 cxxbridge1$string$len + 89224\n3   chromedriver                        0x000000010486d398 cxxbridge1$string$len + 109420\n4   chromedriver                        0x000000010486f3e8 cxxbridge1$string$len + 117692\n5   chromedriver                        0x000000010486f490 cxxbridge1$string$len + 117860\n6   chromedriver                        0x00000001048ac5dc cxxbridge1$string$len + 368048\n7   chromedriver                        0x00000001048e60fc cxxbridge1$string$len + 604368\n8   chromedriver                        0x00000001048a10b0 cxxbridge1$string$len + 321668\n9   chromedriver                        0x00000001048a1d00 cxxbridge1$string$len + 324820\n10  chromedriver                        0x0000000104dd2e4c cxxbridge1$str$ptr + 3435328\n11  chromedriver                        0x0000000104dd6164 cxxbridge1$str$ptr + 3448408\n12  chromedriver                        0x0000000104dba1c0 cxxbridge1$str$ptr + 3333812\n13  chromedriver                        0x0000000104dd6a24 cxxbridge1$str$ptr + 3450648\n14  chromedriver                        0x0000000104dab9cc cxxbridge1$str$ptr + 3274432\n15  chromedriver                        0x0000000104df1138 cxxbridge1$str$ptr + 3558956\n16  chromedriver                        0x0000000104df12b4 cxxbridge1$str$ptr + 3559336\n17  chromedriver                        0x0000000104dfffcc cxxbridge1$str$ptr + 3620032\n18  libsystem_pthread.dylib             0x0000000195e772e4 _pthread_start + 136\n19  libsystem_pthread.dylib             0x0000000195e720fc thread_start + 8\n",
     "output_type": "error",
     "traceback": [
      "\u001b[0;31m---------------------------------------------------------------------------\u001b[0m",
      "\u001b[0;31mInvalidSelectorException\u001b[0m                  Traceback (most recent call last)",
      "Cell \u001b[0;32mIn[25], line 36\u001b[0m\n\u001b[1;32m     33\u001b[0m page_source \u001b[38;5;241m=\u001b[39m driver\u001b[38;5;241m.\u001b[39mpage_source\n\u001b[1;32m     35\u001b[0m \u001b[38;5;66;03m# 해당 페이지에서 시험 데이터 크롤링\u001b[39;00m\n\u001b[0;32m---> 36\u001b[0m company_info_name \u001b[38;5;241m=\u001b[39m \u001b[43mdriver\u001b[49m\u001b[38;5;241;43m.\u001b[39;49m\u001b[43mfind_element\u001b[49m\u001b[43m(\u001b[49m\u001b[43mBy\u001b[49m\u001b[38;5;241;43m.\u001b[39;49m\u001b[43mXPATH\u001b[49m\u001b[43m,\u001b[49m\u001b[43m \u001b[49m\u001b[38;5;124;43m'\u001b[39;49m\u001b[38;5;124;43m//*[@id=\u001b[39;49m\u001b[38;5;124;43m\"\u001b[39;49m\u001b[38;5;124;43m__next\u001b[39;49m\u001b[38;5;124;43m\"\u001b[39;49m\u001b[38;5;124;43m]/main/div[2]/div[1]/div/div[1]/div[1]/div[2]/h1/span]\u001b[39;49m\u001b[38;5;124;43m'\u001b[39;49m\u001b[43m)\u001b[49m\u001b[38;5;241m.\u001b[39mtext\n\u001b[1;32m     37\u001b[0m representative_name \u001b[38;5;241m=\u001b[39m driver\u001b[38;5;241m.\u001b[39mfind_element(By\u001b[38;5;241m.\u001b[39mXPATH, \u001b[38;5;124m'\u001b[39m\u001b[38;5;124m//*[@id=\u001b[39m\u001b[38;5;124m\"\u001b[39m\u001b[38;5;124mrightWrap\u001b[39m\u001b[38;5;124m\"\u001b[39m\u001b[38;5;124m]/div[1]/div[2]/ul/li/div\u001b[39m\u001b[38;5;124m'\u001b[39m)\u001b[38;5;241m.\u001b[39mtext\n\u001b[1;32m     39\u001b[0m \u001b[38;5;66;03m# 결과 출력\u001b[39;00m\n",
      "File \u001b[0;32m~/Library/Python/3.12/lib/python/site-packages/selenium/webdriver/remote/webdriver.py:770\u001b[0m, in \u001b[0;36mWebDriver.find_element\u001b[0;34m(self, by, value)\u001b[0m\n\u001b[1;32m    767\u001b[0m         \u001b[38;5;28;01mraise\u001b[39;00m NoSuchElementException(\u001b[38;5;124mf\u001b[39m\u001b[38;5;124m\"\u001b[39m\u001b[38;5;124mCannot locate relative element with: \u001b[39m\u001b[38;5;132;01m{\u001b[39;00mby\u001b[38;5;241m.\u001b[39mroot\u001b[38;5;132;01m}\u001b[39;00m\u001b[38;5;124m\"\u001b[39m)\n\u001b[1;32m    768\u001b[0m     \u001b[38;5;28;01mreturn\u001b[39;00m elements[\u001b[38;5;241m0\u001b[39m]\n\u001b[0;32m--> 770\u001b[0m \u001b[38;5;28;01mreturn\u001b[39;00m \u001b[38;5;28;43mself\u001b[39;49m\u001b[38;5;241;43m.\u001b[39;49m\u001b[43mexecute\u001b[49m\u001b[43m(\u001b[49m\u001b[43mCommand\u001b[49m\u001b[38;5;241;43m.\u001b[39;49m\u001b[43mFIND_ELEMENT\u001b[49m\u001b[43m,\u001b[49m\u001b[43m \u001b[49m\u001b[43m{\u001b[49m\u001b[38;5;124;43m\"\u001b[39;49m\u001b[38;5;124;43musing\u001b[39;49m\u001b[38;5;124;43m\"\u001b[39;49m\u001b[43m:\u001b[49m\u001b[43m \u001b[49m\u001b[43mby\u001b[49m\u001b[43m,\u001b[49m\u001b[43m \u001b[49m\u001b[38;5;124;43m\"\u001b[39;49m\u001b[38;5;124;43mvalue\u001b[39;49m\u001b[38;5;124;43m\"\u001b[39;49m\u001b[43m:\u001b[49m\u001b[43m \u001b[49m\u001b[43mvalue\u001b[49m\u001b[43m}\u001b[49m\u001b[43m)\u001b[49m[\u001b[38;5;124m\"\u001b[39m\u001b[38;5;124mvalue\u001b[39m\u001b[38;5;124m\"\u001b[39m]\n",
      "File \u001b[0;32m~/Library/Python/3.12/lib/python/site-packages/selenium/webdriver/remote/webdriver.py:384\u001b[0m, in \u001b[0;36mWebDriver.execute\u001b[0;34m(self, driver_command, params)\u001b[0m\n\u001b[1;32m    382\u001b[0m response \u001b[38;5;241m=\u001b[39m \u001b[38;5;28mself\u001b[39m\u001b[38;5;241m.\u001b[39mcommand_executor\u001b[38;5;241m.\u001b[39mexecute(driver_command, params)\n\u001b[1;32m    383\u001b[0m \u001b[38;5;28;01mif\u001b[39;00m response:\n\u001b[0;32m--> 384\u001b[0m     \u001b[38;5;28;43mself\u001b[39;49m\u001b[38;5;241;43m.\u001b[39;49m\u001b[43merror_handler\u001b[49m\u001b[38;5;241;43m.\u001b[39;49m\u001b[43mcheck_response\u001b[49m\u001b[43m(\u001b[49m\u001b[43mresponse\u001b[49m\u001b[43m)\u001b[49m\n\u001b[1;32m    385\u001b[0m     response[\u001b[38;5;124m\"\u001b[39m\u001b[38;5;124mvalue\u001b[39m\u001b[38;5;124m\"\u001b[39m] \u001b[38;5;241m=\u001b[39m \u001b[38;5;28mself\u001b[39m\u001b[38;5;241m.\u001b[39m_unwrap_value(response\u001b[38;5;241m.\u001b[39mget(\u001b[38;5;124m\"\u001b[39m\u001b[38;5;124mvalue\u001b[39m\u001b[38;5;124m\"\u001b[39m, \u001b[38;5;28;01mNone\u001b[39;00m))\n\u001b[1;32m    386\u001b[0m     \u001b[38;5;28;01mreturn\u001b[39;00m response\n",
      "File \u001b[0;32m~/Library/Python/3.12/lib/python/site-packages/selenium/webdriver/remote/errorhandler.py:232\u001b[0m, in \u001b[0;36mErrorHandler.check_response\u001b[0;34m(self, response)\u001b[0m\n\u001b[1;32m    230\u001b[0m         alert_text \u001b[38;5;241m=\u001b[39m value[\u001b[38;5;124m\"\u001b[39m\u001b[38;5;124malert\u001b[39m\u001b[38;5;124m\"\u001b[39m]\u001b[38;5;241m.\u001b[39mget(\u001b[38;5;124m\"\u001b[39m\u001b[38;5;124mtext\u001b[39m\u001b[38;5;124m\"\u001b[39m)\n\u001b[1;32m    231\u001b[0m     \u001b[38;5;28;01mraise\u001b[39;00m exception_class(message, screen, stacktrace, alert_text)  \u001b[38;5;66;03m# type: ignore[call-arg]  # mypy is not smart enough here\u001b[39;00m\n\u001b[0;32m--> 232\u001b[0m \u001b[38;5;28;01mraise\u001b[39;00m exception_class(message, screen, stacktrace)\n",
      "\u001b[0;31mInvalidSelectorException\u001b[0m: Message: invalid selector\nfrom javascript error: {\"status\":32,\"value\":\"Unable to locate an element with the xpath expression //*[@id=\\\"__next\\\"]/main/div[2]/div[1]/div/div[1]/div[1]/div[2]/h1/span] because of the following error:\\nSyntaxError: Failed to execute 'evaluate' on 'Document': The string '//*[@id=\\\"__next\\\"]/main/div[2]/div[1]/div/div[1]/div[1]/div[2]/h1/span]' is not a valid XPath expression.\"}\n  (Session info: chrome=131.0.6778.140); For documentation on this error, please visit: https://www.selenium.dev/documentation/webdriver/troubleshooting/errors#invalid-selector-exception\nStacktrace:\n0   chromedriver                        0x0000000104e07b08 cxxbridge1$str$ptr + 3651580\n1   chromedriver                        0x0000000104e00358 cxxbridge1$str$ptr + 3620940\n2   chromedriver                        0x00000001048684b4 cxxbridge1$string$len + 89224\n3   chromedriver                        0x000000010486d398 cxxbridge1$string$len + 109420\n4   chromedriver                        0x000000010486f3e8 cxxbridge1$string$len + 117692\n5   chromedriver                        0x000000010486f490 cxxbridge1$string$len + 117860\n6   chromedriver                        0x00000001048ac5dc cxxbridge1$string$len + 368048\n7   chromedriver                        0x00000001048e60fc cxxbridge1$string$len + 604368\n8   chromedriver                        0x00000001048a10b0 cxxbridge1$string$len + 321668\n9   chromedriver                        0x00000001048a1d00 cxxbridge1$string$len + 324820\n10  chromedriver                        0x0000000104dd2e4c cxxbridge1$str$ptr + 3435328\n11  chromedriver                        0x0000000104dd6164 cxxbridge1$str$ptr + 3448408\n12  chromedriver                        0x0000000104dba1c0 cxxbridge1$str$ptr + 3333812\n13  chromedriver                        0x0000000104dd6a24 cxxbridge1$str$ptr + 3450648\n14  chromedriver                        0x0000000104dab9cc cxxbridge1$str$ptr + 3274432\n15  chromedriver                        0x0000000104df1138 cxxbridge1$str$ptr + 3558956\n16  chromedriver                        0x0000000104df12b4 cxxbridge1$str$ptr + 3559336\n17  chromedriver                        0x0000000104dfffcc cxxbridge1$str$ptr + 3620032\n18  libsystem_pthread.dylib             0x0000000195e772e4 _pthread_start + 136\n19  libsystem_pthread.dylib             0x0000000195e720fc thread_start + 8\n"
     ]
    }
   ],
   "source": [
    "from selenium import webdriver\n",
    "from selenium.webdriver.chrome.service import Service\n",
    "from selenium.webdriver.common.by import By\n",
    "\n",
    "# ChromeDriver 경로 설정\n",
    "driver_path = \"/Users/kimble/Downloads/chromedriver-mac-arm64/chromedriver\"  # 사용자 환경에 맞게 경로 수정\n",
    "service = Service(driver_path)\n",
    "driver = webdriver.Chrome(service=service)\n",
    "\n",
    "# 로그인 페이지 접속\n",
    "login_url = \"https://www.innoforest.co.kr/login\"\n",
    "driver.get(login_url)\n",
    "\n",
    "# 요소 대기 및 로그인 처리\n",
    "username_field = WebDriverWait(driver, 10).until(\n",
    "    EC.presence_of_element_located((By.NAME, \"email\"))  # email 필드를 name 속성으로 찾기\n",
    ")\n",
    "password_field = WebDriverWait(driver, 10).until(\n",
    "    EC.presence_of_element_located((By.NAME, \"password\"))  # password 필드를 name 속성으로 찾기\n",
    ")\n",
    "username_field.send_keys(\"eudaimon125@hufs.ac.kr\")\n",
    "password_field.send_keys(\"GEtajob8282$$\")\n",
    "\n",
    "# 로그인 버튼 클릭\n",
    "login_button = driver.find_element(By.XPATH, '//*[@id=\"__next\"]/header/div[1]/div/ul[2]/li[1]/a') # 버튼 속성에 맞게 변경\n",
    "login_button.click()\n",
    "\n",
    "# 원하는 페이지로 이동\n",
    "driver.get(\"https://www.innoforest.co.kr/company/CP00010087/%EB%A0%88%EB%B8%8C%EC%9E%87\")\n",
    "\n",
    "# 페이지 소스 가져오기\n",
    "page_source = driver.page_source\n",
    "\n",
    "# 해당 페이지에서 시험 데이터 크롤링\n",
    "company_info_name = driver.find_element(By.XPATH, '//*[@id=\"__next\"]/main/div[2]/div[1]/div/div[1]/div[1]/div[2]/h1/span]').text\n",
    "representative_name = driver.find_element(By.XPATH, '//*[@id=\"rightWrap\"]/div[1]/div[2]/ul/li/div').text\n",
    "\n",
    "# 결과 출력\n",
    "print(\"기업명:\", company_info_name)\n",
    "print(\"대표자명:\", representative_name)"
   ]
  },
  {
   "cell_type": "markdown",
   "metadata": {},
   "source": [
    "### 2. User-Agent 추가"
   ]
  },
  {
   "cell_type": "code",
   "execution_count": 26,
   "metadata": {},
   "outputs": [
    {
     "name": "stdout",
     "output_type": "stream",
     "text": [
      "기업명: 레브잇\n",
      "대표자명: 강재윤\n"
     ]
    }
   ],
   "source": [
    "from selenium import webdriver\n",
    "from selenium.webdriver.chrome.service import Service\n",
    "from selenium.webdriver.chrome.options import Options\n",
    "from selenium.webdriver.support.ui import WebDriverWait\n",
    "from selenium.webdriver.support import expected_conditions as EC\n",
    "from selenium.webdriver.common.by import By\n",
    "\n",
    "# User-Agent 설정\n",
    "user_agent = \"Mozilla/5.0 (Macintosh; Intel Mac OS X 10_15_7) AppleWebKit/537.36 (KHTML, like Gecko) Chrome/131.0.6778.140 Safari/537.36\"\n",
    "\n",
    "# Selenium 설정\n",
    "options = Options()\n",
    "options.add_argument(\"--no-sandbox\")\n",
    "options.add_argument(\"--disable-dev-shm-usage\")\n",
    "options.add_argument(\"--disable-gpu\")\n",
    "options.add_argument(\"--window-size=1920,1080\")\n",
    "options.add_argument(\"--disable-blink-features=AutomationControlled\")\n",
    "options.add_experimental_option(\"excludeSwitches\", [\"enable-automation\"])\n",
    "options.add_experimental_option('useAutomationExtension', False)\n",
    "options.add_argument(f\"user-agent={user_agent}\")\n",
    "\n",
    "# ChromeDriver 경로 설정\n",
    "driver_path = \"/Users/kimble/Downloads/chromedriver-mac-arm64/chromedriver\"\n",
    "service = Service(driver_path)\n",
    "driver = webdriver.Chrome(service=service, options=options)\n",
    "\n",
    "try:\n",
    "    # 로그인 페이지 접속\n",
    "    login_url = \"https://www.innoforest.co.kr/login\"\n",
    "    driver.get(login_url)\n",
    "\n",
    "    # 로그인 처리\n",
    "    username_field = WebDriverWait(driver, 10).until(\n",
    "        EC.presence_of_element_located((By.NAME, \"email\"))\n",
    "    )\n",
    "    password_field = WebDriverWait(driver, 10).until(\n",
    "        EC.presence_of_element_located((By.NAME, \"password\"))\n",
    "    )\n",
    "    username_field.send_keys(\"eudaimon125@hufs.ac.kr\")\n",
    "    password_field.send_keys(\"Getajob8282$$\")\n",
    "\n",
    "    # 로그인 버튼 클릭\n",
    "    login_button = WebDriverWait(driver, 10).until(\n",
    "        EC.element_to_be_clickable((By.XPATH, '//*[@id=\"__next\"]/main/div[2]/div/div/form/div[4]/button/div'))\n",
    "    )\n",
    "    login_button.click()\n",
    "\n",
    "    # 타겟 페이지로 이동\n",
    "    target_url = \"https://www.innoforest.co.kr/company/CP00010087/%EB%A0%88%EB%B8%8C%EC%9E%87\"\n",
    "    driver.get(target_url)\n",
    "\n",
    "    # 기업명과 대표자명 크롤링\n",
    "    wait = WebDriverWait(driver, 10)\n",
    "    company_info_name = wait.until(\n",
    "        EC.presence_of_element_located((By.XPATH, '//*[@id=\"__next\"]/main/div[2]/div[1]/div/div[1]/div[1]/div[2]/h1/span'))\n",
    "    ).text\n",
    "    representative_name = wait.until(\n",
    "        EC.presence_of_element_located((By.XPATH, '//*[@id=\"rightWrap\"]/div[1]/div[2]/ul/li/div'))\n",
    "    ).text\n",
    "\n",
    "    # 결과 출력\n",
    "    print(\"기업명:\", company_info_name)\n",
    "    print(\"대표자명:\", representative_name)\n",
    "\n",
    "except Exception as e:\n",
    "    print(\"오류 발생:\", e)\n",
    "\n",
    "finally:\n",
    "    # 브라우저 닫기\n",
    "    driver.quit()"
   ]
  }
 ],
 "metadata": {
  "kernelspec": {
   "display_name": "Python 3",
   "language": "python",
   "name": "python3"
  },
  "language_info": {
   "codemirror_mode": {
    "name": "ipython",
    "version": 3
   },
   "file_extension": ".py",
   "mimetype": "text/x-python",
   "name": "python",
   "nbconvert_exporter": "python",
   "pygments_lexer": "ipython3",
   "version": "3.12.5"
  }
 },
 "nbformat": 4,
 "nbformat_minor": 2
}
